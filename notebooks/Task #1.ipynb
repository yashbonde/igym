
{
 "cells": [
  {
   "cell_type": "markdown",
   "metadata": {},
   "source": [
    "# Task: Search bing.com for Elon Musk\n",
    "\n",
    "As the first benchmark test we want the model to be able to open a website and search for an entry. This is also a simple introduction to the code."
   ]
  },
  {
   "cell_type": "code",
   "execution_count": 1,
   "metadata": {},
   "outputs": [],
   "source": [
    "import os\n",
    "import numpy as np\n",
    "from igym import InternetEnv, DefaultActions"
   ]
  },
  {
   "cell_type": "code",
   "execution_count": 3,
   "metadata": {},
   "outputs": [],
   "source": [
    "# user can define the target and AI has to reach the target\n",
    "QUESTION = \"Search bing.com for Elon Musk\""
   ]
  },
  {
   "cell_type": "code",
   "execution_count": 5,
   "metadata": {},
   "outputs": [],
   "source": [
    "# initialise the environment with chromedriver\n",
    "# in this example I have the chromedriver in the same folder as this notebook\n",
    "env = InternetEnv(\"./chromedriver\")"
   ]
  },
  {
   "cell_type": "code",
   "execution_count": 7,
   "metadata": {},
   "outputs": [
    {
     "name": "stdout",
     "output_type": "stream",
     "text": [
      "Number of Actions: 3\n",
      "Randomly chosen action: <igym.Action.TypeInputAndPressEnter: 'Type the following 'None' in the input box and press Enter'>\n",
      "Arguments to be filled for this action: {'text'}\n"
     ]
    }
   ],
   "source": [
    "print(\"Number of Actions:\", len(DefaultActions))\n",
    "act = np.random.choice(DefaultActions)\n",
    "print(\"Randomly chosen action:\", act)\n",
    "print(\"Arguments to be filled for this action:\", set(act.args.keys()))"
   ]
  },
  {
   "cell_type": "code",
   "execution_count": 8,
   "metadata": {},
   "outputs": [],
   "source": [
    "# we know that open link is the first argument, but in general\n",
    "# your model should be able to figure this out\n",
    "from igym.core.actions import OpenLink, TypeInputAndPressEnter\n",
    "open_link = OpenLink()"
   ]
  },
  {
   "cell_type": "code",
   "execution_count": 9,
   "metadata": {},
   "outputs": [
    {
     "name": "stdout",
     "output_type": "stream",
     "text": [
      "Step #1: Open the link. <igym.Action.OpenLink: 'Open the following URL: https://www.bing.com'>\n"
     ]
    }
   ],
   "source": [
    "# Automatic handling of arguments to be passed\n",
    "# open_link.fill_values() # raises assertion error\n",
    "# open_link.fill_values(url=\"something\", extra=\"234\") # raises assertion error\n",
    "open_link.fill_values(url=\"https://www.bing.com\")\n",
    "print(\"Step #1: Open the link.\", open_link)"
   ]
  },
  {
   "cell_type": "code",
   "execution_count": 10,
   "metadata": {},
   "outputs": [
    {
     "name": "stdout",
     "output_type": "stream",
     "text": [
      "Step #2: Enter information in the search box and press enter <igym.Action.OpenLink: 'Open the following URL: https://www.bing.com'>\n"
     ]
    }
   ],
   "source": [
    "# second step, again should be determined by your model\n",
    "print(\"Step #2: Enter information in the search box and press enter\", open_link)\n",
    "type_and_search = TypeInputAndPressEnter()\n",
    "type_and_search.fill_values(text = \"Elon Musk\")"
   ]
  },
  {
   "cell_type": "code",
   "execution_count": 11,
   "metadata": {},
   "outputs": [],
   "source": [
    "# user can pass a single action or list of actions\n",
    "# env.step(open_link)\n",
    "env.step(actions_list = [open_link, type_and_search])"
   ]
  },
  {
   "cell_type": "code",
   "execution_count": 12,
   "metadata": {},
   "outputs": [],
   "source": [
    "# after you are done checking the outcome\n",
    "env.close()"
   ]
  },
  {
   "cell_type": "code",
   "execution_count": null,
   "metadata": {},
   "outputs": [],
   "source": []
  }
 ],
 "metadata": {
  "kernelspec": {
   "display_name": "Python 3",
   "language": "python",
   "name": "python3"
  },
  "language_info": {
   "codemirror_mode": {
    "name": "ipython",
    "version": 3
   },
   "file_extension": ".py",
   "mimetype": "text/x-python",
   "name": "python",
   "nbconvert_exporter": "python",
   "pygments_lexer": "ipython3",
   "version": "3.9.1"
  }
 },
 "nbformat": 4,
 "nbformat_minor": 4
}
