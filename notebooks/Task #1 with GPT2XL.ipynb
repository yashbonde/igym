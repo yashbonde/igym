{
 "cells": [
  {
   "cell_type": "code",
   "execution_count": 1,
   "metadata": {},
   "outputs": [],
   "source": [
    "import os\n",
    "import numpy as np\n",
    "from igym import InternetEnv, DefaultActions\n",
    "\n",
    "import requests\n",
    "import json"
   ]
  },
  {
   "cell_type": "code",
   "execution_count": 2,
   "metadata": {},
   "outputs": [],
   "source": [
    "def gpt_completion(sentence, num_steps):\n",
    "  # <add your code here>\n",
    "  data = {\n",
    "    \"token\": \"0c4681e1eea0a2ff58a16dfd38b706fee46ffde807f0a32ab7b80abbfc2d3924\",\n",
    "    \"sentence\": sentence,\n",
    "    \"num_steps\": num_steps\n",
    "  }\n",
    "  out = requests.get(\n",
    "    url=\"https://2d490ab288c1.ngrok.io/core\",\n",
    "    data=json.dumps(data)\n",
    "  )\n",
    "  return out.json()[\"generations\"]"
   ]
  },
  {
   "cell_type": "code",
   "execution_count": 3,
   "metadata": {},
   "outputs": [
    {
     "name": "stdout",
     "output_type": "stream",
     "text": [
      "Number of Actions: 3\n",
      "Randomly chosen action: <igym.Action.OpenLink: 'Open the following URL: None'>\n",
      "Arguments to be filled for this action: {'url'}\n"
     ]
    }
   ],
   "source": [
    "print(\"Number of Actions:\", len(DefaultActions))\n",
    "act = np.random.choice(DefaultActions)\n",
    "print(\"Randomly chosen action:\", act)\n",
    "print(\"Arguments to be filled for this action:\", set(act.args.keys()))"
   ]
  },
  {
   "cell_type": "code",
   "execution_count": 5,
   "metadata": {},
   "outputs": [
    {
     "data": {
      "text/plain": [
       "['Open the following URL: {url}',\n",
       " \"Type the following '{text}' in the input box\",\n",
       " \"Type the following '{text}' in the input box and press Enter\"]"
      ]
     },
     "execution_count": 5,
     "metadata": {},
     "output_type": "execute_result"
    }
   ],
   "source": [
    "[x.text for x in DefaultActions]"
   ]
  },
  {
   "cell_type": "code",
   "execution_count": null,
   "metadata": {},
   "outputs": [],
   "source": []
  }
 ],
 "metadata": {
  "kernelspec": {
   "display_name": "Python 3",
   "language": "python",
   "name": "python3"
  },
  "language_info": {
   "codemirror_mode": {
    "name": "ipython",
    "version": 3
   },
   "file_extension": ".py",
   "mimetype": "text/x-python",
   "name": "python",
   "nbconvert_exporter": "python",
   "pygments_lexer": "ipython3",
   "version": "3.9.1"
  }
 },
 "nbformat": 4,
 "nbformat_minor": 4
}
