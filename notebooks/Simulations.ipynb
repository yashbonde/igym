{
 "cells": [
  {
   "cell_type": "markdown",
   "metadata": {},
   "source": [
    "# Simulations\n",
    "\n",
    "In this notebook I explore possible generation of simulated datasets for `igym`"
   ]
  },
  {
   "cell_type": "code",
   "execution_count": 1,
   "metadata": {},
   "outputs": [],
   "source": [
    "import numpy as np\n",
    "import random\n",
    "from types import SimpleNamespace\n",
    "from igym import DefaultActionsUnInit as Actions\n",
    "from copy import deepcopy"
   ]
  },
  {
   "cell_type": "code",
   "execution_count": 2,
   "metadata": {},
   "outputs": [],
   "source": [
    "class Simulation:\n",
    "  def __init__(self, target, actions):\n",
    "    self.target = target\n",
    "    self.actions = actions\n",
    "    self.n_steps = len(actions)\n",
    "    self.reset()\n",
    "\n",
    "  def reset(self):\n",
    "    self._t = 0 # time counter\n",
    "    self._done = False # flag\n",
    "\n",
    "  def __iter__(self):\n",
    "    return self\n",
    "  \n",
    "  def __next__(self):\n",
    "    if self._done:\n",
    "      raise StopIteration\n",
    "    a = self.actions[self._t]\n",
    "    self._t += 1\n",
    "    if self.n_steps == self._t:\n",
    "      self.reset()\n",
    "      self._done = True\n",
    "    a[\"action\"] = Actions[a[\"id\"]]() # uninitialised \n",
    "    return a\n"
   ]
  },
  {
   "cell_type": "code",
   "execution_count": 3,
   "metadata": {},
   "outputs": [],
   "source": [
    "# single simulation\n",
    "sim = Simulation(\n",
    "  target = \"Search Google for Elon Musk\",\n",
    "  actions = [{\n",
    "    \"id\": 0, # OpenLink\n",
    "    \"action_args\": {\"url\": \"https://www.bing.com\"}\n",
    "  },{\n",
    "    \"id\": 2, # TypeInputAndPressEnter\n",
    "    \"action_args\": {\"text\": \"Elon Musk\"}\n",
    "  }]\n",
    ")"
   ]
  },
  {
   "cell_type": "code",
   "execution_count": 4,
   "metadata": {},
   "outputs": [
    {
     "name": "stdout",
     "output_type": "stream",
     "text": [
      "{'id': 0, 'action_args': {'url': 'https://www.bing.com'}, 'action': <igym.Action.OpenLink: 'Open the following URL: '{url}''>}\n",
      "{'id': 2, 'action_args': {'text': 'Elon Musk'}, 'action': <igym.Action.TypeInputAndPressEnter: 'Type the following '{text}' in the first input box and press Enter'>}\n"
     ]
    }
   ],
   "source": [
    "sim.reset()\n",
    "for x in sim:\n",
    "  print(x)\n",
    "  action = x[\"action\"]"
   ]
  },
  {
   "cell_type": "code",
   "execution_count": 8,
   "metadata": {},
   "outputs": [
    {
     "data": {
      "text/plain": [
       "<igym.Action.TypeInputAndPressEnter: 'Type the following 'Elon Musk' in the first input box and press Enter'>"
      ]
     },
     "execution_count": 8,
     "metadata": {},
     "output_type": "execute_result"
    }
   ],
   "source": [
    "action.fill_values(**x[\"action_args\"])\n",
    "action"
   ]
  },
  {
   "cell_type": "code",
   "execution_count": null,
   "metadata": {},
   "outputs": [],
   "source": [
    "target_templates = [\n",
    "  \"Search {website} for {item}\",\n",
    "  \"Find Wikipedia entry for {item}\",\n",
    "  \"Search internet for {item}\",\n",
    "  \"Open {url}\",\n",
    "  \"Open {item}\", # open gym documentation\n",
    "  \"Go to {url}\",\n",
    "  \"What is {item}\",\n",
    "]\n",
    "\n",
    "website = [\n",
    "  \"google\",\n",
    "  \"bing\",\n",
    "  \"duck duck go\",\n",
    "  \"wikipedia\",\n",
    "  \"digg\",\n",
    "]\n",
    "\n",
    "item = [\n",
    "  \"Elon Musk\",\n",
    "  \"India News\",\n",
    "]\n",
    "\n",
    "# easter eggs for demonstration purposes\n",
    "hacker_news_upvoter = \"Upvote all posts on hackernews\" # each upvote has a special url and simply need to click that\n",
    "get_latest_news = \"Get news about {item}\" # simple google news query and return the links and titles"
   ]
  },
  {
   "cell_type": "code",
   "execution_count": null,
   "metadata": {},
   "outputs": [],
   "source": [
    "# you can see that there are soo many ways to get to the same target\n",
    "\n",
    "simulations = [\n",
    "  Simulation(\n",
    "    target = \"Find Wikipedia entry for Google\",\n",
    "    actions = [{\n",
    "      \"id\": 0,\n",
    "      \"action_args\": {\"url\": \"https://www.google.com\"}\n",
    "    }, {\n",
    "      \"id\": 2,\n",
    "      \"action_args\": {\"text\": \"Wikipedia Google\"} # \n",
    "    }, {\n",
    "      \"id\": 4, # ClickElementByPartialLinkText\n",
    "      \"action_args\": {\"text\": \"Google - Wikipedia\"}\n",
    "    }]\n",
    "  ),\n",
    "  Simulation(\n",
    "    target = \"Find Wikipedia entry for Google\",\n",
    "    actions = [{\n",
    "      \"id\": 0,\n",
    "      \"action_args\": {\"url\": \"https://www.bing.com\"}\n",
    "    }, {\n",
    "      \"id\": 2,\n",
    "      \"action_args\": {\"text\": \"Google Wiki\"} # \n",
    "    }, {\n",
    "      \"id\": 4, # ClickElementByPartialLinkText\n",
    "      \"action_args\": {\"text\": \"Google - Wikipedia\"}\n",
    "    }]\n",
    "  ),\n",
    "  Simulation(\n",
    "    target = \"Find Wikipedia entry for Google\",\n",
    "    actions = [{\n",
    "      \"id\": 0,\n",
    "      \"action_args\": {\"url\": \"https://en.wikipedia.org/wiki/Google\"}\n",
    "    }]\n",
    "  )\n",
    "]"
   ]
  },
  {
   "cell_type": "code",
   "execution_count": null,
   "metadata": {},
   "outputs": [],
   "source": []
  },
  {
   "cell_type": "code",
   "execution_count": null,
   "metadata": {},
   "outputs": [],
   "source": []
  }
 ],
 "metadata": {
  "kernelspec": {
   "display_name": "Python 3",
   "language": "python",
   "name": "python3"
  },
  "language_info": {
   "codemirror_mode": {
    "name": "ipython",
    "version": 3
   },
   "file_extension": ".py",
   "mimetype": "text/x-python",
   "name": "python",
   "nbconvert_exporter": "python",
   "pygments_lexer": "ipython3",
   "version": "3.9.1"
  }
 },
 "nbformat": 4,
 "nbformat_minor": 4
}
