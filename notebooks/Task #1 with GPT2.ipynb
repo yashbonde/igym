{
 "cells": [
  {
   "cell_type": "markdown",
   "metadata": {},
   "source": [
    "# Task: Search bing.com for Elon Musk using GPT2-XL\n",
    "\n",
    "As the first benchmark test we want the model to be able to open a website and search for an entry. This is also a simple introduction to the code.\n",
    "\n",
    "In this notebook I use the GPT2 model and how we can use that for solving this task."
   ]
  },
  {
   "cell_type": "code",
   "execution_count": 1,
   "metadata": {},
   "outputs": [],
   "source": [
    "import os\n",
    "import numpy as np\n",
    "from igym import InternetEnv, DefaultActions\n",
    "import torch\n",
    "import requests\n",
    "import json\n",
    "import matplotlib.pyplot as plt\n",
    "%matplotlib inline\n",
    "import random\n",
    "\n",
    "from transformers import AutoModelForCausalLM, AutoTokenizer"
   ]
  },
  {
   "cell_type": "code",
   "execution_count": 2,
   "metadata": {},
   "outputs": [],
   "source": [
    "# --- helper functions\n",
    "def set_seed(seed):\n",
    "  if seed is not None:\n",
    "    random.seed(seed)\n",
    "    np.random.seed(seed)\n",
    "    torch.manual_seed(seed)\n",
    "    torch.cuda.manual_seed_all(seed)"
   ]
  },
  {
   "cell_type": "code",
   "execution_count": 3,
   "metadata": {},
   "outputs": [],
   "source": [
    "# user can define the target and AI has to reach the target\n",
    "QUESTION = \"Search bing.com for Elon Musk\""
   ]
  },
  {
   "cell_type": "code",
   "execution_count": 4,
   "metadata": {},
   "outputs": [],
   "source": [
    "# initialise the model\n",
    "model = AutoModelForCausalLM.from_pretrained(\"gpt2-xl\")\n",
    "tok = AutoTokenizer.from_pretrained(\"gpt2-xl\")\n",
    "tok.pad_token = tok.eos_token"
   ]
  },
  {
   "cell_type": "code",
   "execution_count": 5,
   "metadata": {},
   "outputs": [
    {
     "name": "stdout",
     "output_type": "stream",
     "text": [
      "Number of Actions: 3\n",
      "Randomly chosen action: <igym.Action.OpenLink: 'Open the following URL: None'>\n",
      "Arguments to be filled for this action: {'url'}\n"
     ]
    }
   ],
   "source": [
    "print(\"Number of Actions:\", len(DefaultActions))\n",
    "act = np.random.choice(DefaultActions)\n",
    "print(\"Randomly chosen action:\", act)\n",
    "print(\"Arguments to be filled for this action:\", set(act.args.keys()))"
   ]
  },
  {
   "cell_type": "markdown",
   "metadata": {},
   "source": [
    "### Step 1: Identify intent using Sequence generation\n",
    "\n",
    "We will use weighted sequence generation for understanding different parts of the sequence."
   ]
  },
  {
   "cell_type": "code",
   "execution_count": 6,
   "metadata": {},
   "outputs": [],
   "source": [
    "@torch.no_grad()\n",
    "def gpt_completion(sentence, n_steps):\n",
    "  set_seed(4)\n",
    "  data = tok([sentence], padding = \"longest\", return_tensors=\"pt\")\n",
    "  _len = data[\"input_ids\"].size(-1)\n",
    "  beam_outputs = model.generate(\n",
    "    **data,\n",
    "    max_length = _len + n_steps,\n",
    "    do_sample = True,\n",
    "    early_stopping = True,\n",
    "    temperature = 0.9,\n",
    "    # num_beams=10,\n",
    "    top_k = 40,\n",
    "    top_p = 0.95,\n",
    "    num_return_sequences=5\n",
    "  )\n",
    "  return tok.batch_decode(beam_outputs)"
   ]
  },
  {
   "cell_type": "code",
   "execution_count": 7,
   "metadata": {},
   "outputs": [
    {
     "name": "stdout",
     "output_type": "stream",
     "text": [
      "identify the website in the questions:\n",
      "in -> latest test score results on wikipedia; out -> wikipedia.org\n",
      "in -> Search bing.com for Elon Musk; out ->\n"
     ]
    }
   ],
   "source": [
    "prompt = '''identify the website in the questions:\n",
    "in -> latest test score results on wikipedia; out -> wikipedia.org\n",
    "in -> {}; out ->'''.format(QUESTION)\n",
    "print(prompt)"
   ]
  },
  {
   "cell_type": "code",
   "execution_count": 8,
   "metadata": {},
   "outputs": [
    {
     "name": "stdout",
     "output_type": "stream",
     "text": [
      "in -> Search bing.com for Elon Musk; out -> bing.com\n",
      "----------------------------------------------------------------------\n",
      "in -> Search bing.com for Elon Musk; out -> wikipedia.org\n",
      "----------------------------------------------------------------------\n",
      "in -> Search bing.com for Elon Musk; out -> Google.com\n",
      "----------------------------------------------------------------------\n",
      "in -> Search bing.com for Elon Musk; out -> bing.com\n",
      "----------------------------------------------------------------------\n",
      "in -> Search bing.com for Elon Musk; out -> bing.com\n",
      "----------------------------------------------------------------------\n",
      "in -> Search bing.com for Elon Musk; out -> Search bing.\n",
      "----------------------------------------------------------------------\n",
      "in -> Search bing.com for Elon Musk; out -> www.elon\n",
      "----------------------------------------------------------------------\n",
      "in -> Search bing.com for Elon Musk; out -> Elon Musk's Twitter\n",
      "----------------------------------------------------------------------\n",
      "in -> Search bing.com for Elon Musk; out -> bing.com\n",
      "----------------------------------------------------------------------\n",
      "in -> Search bing.com for Elon Musk; out ->  Elon\n",
      "----------------------------------------------------------------------\n",
      "{'bing.com': 4, 'wikipedia.org': 1, 'google.com': 1, 'search bing.': 1, 'www.elon': 1, \"elon musk's twitter\": 1, 'elon': 1}\n"
     ]
    }
   ],
   "source": [
    "weights = {}\n",
    "for x in gpt_completion(prompt, 4):\n",
    "  last_line = x.split(\"\\n\")[len(prompt.split(\"\\n\")) - 1]\n",
    "  print(last_line)\n",
    "  print('-'*70)\n",
    "  \n",
    "  key = last_line.split(\"->\")[-1].strip().lower()\n",
    "  weights.setdefault(key, 0)\n",
    "  weights[key] += 1\n",
    "  \n",
    "print(weights)"
   ]
  },
  {
   "cell_type": "markdown",
   "metadata": {},
   "source": [
    "So you can see from sampling, `bing.com` came as the highest scored item link. Similarly we can extract for the words \"Elon Musk\"."
   ]
  },
  {
   "cell_type": "code",
   "execution_count": 9,
   "metadata": {},
   "outputs": [
    {
     "name": "stdout",
     "output_type": "stream",
     "text": [
      "identify the item to be searched:\n",
      "in -> wikipedia entry for Tennis; out -> Tennis\n",
      "in -> Search bing.com for Elon Musk; out ->\n"
     ]
    }
   ],
   "source": [
    "prompt = '''identify the item to be searched:\n",
    "in -> wikipedia entry for Tennis; out -> Tennis\n",
    "in -> {}; out ->'''.format(QUESTION)\n",
    "print(prompt)"
   ]
  },
  {
   "cell_type": "code",
   "execution_count": 10,
   "metadata": {},
   "outputs": [
    {
     "name": "stdout",
     "output_type": "stream",
     "text": [
      "in -> Search bing.com for Elon Musk; out -> Elon Musk\n",
      "----------------------------------------------------------------------\n",
      "in -> Search bing.com for Elon Musk; out -> Elon Musk\n",
      "----------------------------------------------------------------------\n",
      "in -> Search bing.com for Elon Musk; out -> Search bing.\n",
      "----------------------------------------------------------------------\n",
      "in -> Search bing.com for Elon Musk; out -> Google\n",
      "----------------------------------------------------------------------\n",
      "in -> Search bing.com for Elon Musk; out -> bing.com\n",
      "----------------------------------------------------------------------\n",
      "in -> Search bing.com for Elon Musk; out -> Search bing.\n",
      "----------------------------------------------------------------------\n",
      "in -> Search bing.com for Elon Musk; out -> Search google.com\n",
      "----------------------------------------------------------------------\n",
      "in -> Search bing.com for Elon Musk; out -> Elon Musk\n",
      "----------------------------------------------------------------------\n",
      "in -> Search bing.com for Elon Musk; out -> Elon Musk\n",
      "----------------------------------------------------------------------\n",
      "in -> Search bing.com for Elon Musk; out -> Elon Musk\n",
      "----------------------------------------------------------------------\n",
      "{'Elon Musk': 5, 'Search bing.': 2, 'Google': 1, 'bing.com': 1, 'Search google.com': 1}\n"
     ]
    }
   ],
   "source": [
    "weights = {}\n",
    "for x in gpt_completion(prompt, 4):\n",
    "  last_line = x.split(\"\\n\")[len(prompt.split(\"\\n\")) - 1]\n",
    "  print(last_line)\n",
    "  print('-'*70)\n",
    "  \n",
    "  key = last_line.split(\"->\")[-1].strip()\n",
    "  weights.setdefault(key, 0)\n",
    "  weights[key] += 1\n",
    "  \n",
    "print(weights)"
   ]
  },
  {
   "cell_type": "code",
   "execution_count": 11,
   "metadata": {},
   "outputs": [],
   "source": [
    "# I am skipping a few steps here:\n",
    "# - cleaning up the URL (easy)\n",
    "# - creating a unified dictionary\n",
    "# code for both these operations can be written easily\n",
    "\n",
    "args_dict = {\n",
    "  \"url\": \"https://www.bing.com\",\n",
    "  \"text\": \"Elon Musk\"\n",
    "}"
   ]
  },
  {
   "cell_type": "markdown",
   "metadata": {},
   "source": [
    "### Step 2: Action selection by Comparing Embeddings\n",
    "\n",
    "Once we have the args from Step 1 we will find the correct actions."
   ]
  },
  {
   "cell_type": "code",
   "execution_count": 12,
   "metadata": {},
   "outputs": [],
   "source": [
    "def tokenize(texts):\n",
    "  texts = [x + tok.eos_token for x in texts]\n",
    "  data = tok(texts, padding = \"longest\", return_tensors=\"pt\")\n",
    "  eot_ = data[\"input_ids\"].argmax(1)\n",
    "  return texts, data, eot_"
   ]
  },
  {
   "cell_type": "code",
   "execution_count": 13,
   "metadata": {},
   "outputs": [
    {
     "data": {
      "text/plain": [
       "(torch.Size([3, 16]), tensor([ 8, 12, 15]), tensor([50256, 50256, 50256]))"
      ]
     },
     "execution_count": 13,
     "metadata": {},
     "output_type": "execute_result"
    }
   ],
   "source": [
    "texts_actions, data_actions, eot_actions = tokenize([x.text for x in DefaultActions])\n",
    "data_actions[\"input_ids\"].size(), eot_actions, data_actions[\"input_ids\"][torch.arange(len(eot_actions)),  eot_actions]"
   ]
  },
  {
   "cell_type": "code",
   "execution_count": 14,
   "metadata": {},
   "outputs": [
    {
     "data": {
      "text/plain": [
       "(13, torch.Size([3, 16, 768]))"
      ]
     },
     "execution_count": 14,
     "metadata": {},
     "output_type": "execute_result"
    }
   ],
   "source": [
    "with torch.no_grad():\n",
    "  output = model(**data_actions, output_hidden_states = True)\n",
    "  \n",
    "# this is 13 for embeddings and rest of blocks\n",
    "len(output.hidden_states), output.hidden_states[-1].size() "
   ]
  },
  {
   "cell_type": "code",
   "execution_count": 15,
   "metadata": {},
   "outputs": [
    {
     "data": {
      "text/plain": [
       "tensor([[ 5.7802e-04, -6.4203e-04,  6.6119e-04,  ...,  5.5200e-04,\n",
       "         -4.6297e-04,  1.6015e-04],\n",
       "        [ 4.5838e-04, -6.6664e-04,  5.4130e-04,  ...,  4.2890e-04,\n",
       "         -5.7347e-04,  8.8789e-05],\n",
       "        [ 4.1396e-04, -7.0390e-04,  5.5007e-04,  ...,  4.5121e-04,\n",
       "         -5.5329e-04,  1.4181e-04]])"
      ]
     },
     "execution_count": 15,
     "metadata": {},
     "output_type": "execute_result"
    }
   ],
   "source": [
    "eot_log_actions = output.hidden_states[-1][torch.arange(len(eot_actions)),  eot_actions]\n",
    "eot_log_actions = eot_log_actions / eot_log_actions.norm(dim = -1, keepdim=True)\n",
    "eot_log_actions"
   ]
  },
  {
   "cell_type": "code",
   "execution_count": 16,
   "metadata": {},
   "outputs": [],
   "source": [
    "actions_inter = eot_log_actions @ eot_log_actions.T\n",
    "actions_inter = actions_inter.softmax(-1)"
   ]
  },
  {
   "cell_type": "code",
   "execution_count": 17,
   "metadata": {},
   "outputs": [
    {
     "data": {
      "text/plain": [
       "array([[0.3333649 , 0.33331427, 0.33332083],\n",
       "       [0.33330002, 0.33335042, 0.33334956],\n",
       "       [0.33330438, 0.33334732, 0.33334827]], dtype=float32)"
      ]
     },
     "execution_count": 17,
     "metadata": {},
     "output_type": "execute_result"
    }
   ],
   "source": [
    "actions_inter.numpy()"
   ]
  },
  {
   "cell_type": "code",
   "execution_count": 18,
   "metadata": {},
   "outputs": [
    {
     "data": {
      "text/plain": [
       "<matplotlib.colorbar.Colorbar at 0x133aa9460>"
      ]
     },
     "execution_count": 18,
     "metadata": {},
     "output_type": "execute_result"
    },
    {
     "data": {
      "image/png": "[encoded data removed]",
      "text/plain": [
       "<Figure size 432x288 with 2 Axes>"
      ]
     },
     "metadata": {
      "needs_background": "light"
     },
     "output_type": "display_data"
    }
   ],
   "source": [
    "plt.xticks(range(len(actions_inter)), texts_actions, rotation = 90)\n",
    "plt.yticks(range(len(actions_inter)), texts_actions, rotation = 0)\n",
    "plt.imshow(actions_inter.numpy())\n",
    "plt.colorbar()"
   ]
  },
  {
   "cell_type": "code",
   "execution_count": 19,
   "metadata": {},
   "outputs": [
    {
     "data": {
      "text/plain": [
       "(torch.Size([1, 13]), tensor([12]), tensor([50256]))"
      ]
     },
     "execution_count": 19,
     "metadata": {},
     "output_type": "execute_result"
    }
   ],
   "source": [
    "query_texts = [\"To Open the following URL 'www.bing.com'\"]\n",
    "query_texts, data_query, eot_query = tokenize(query_texts)\n",
    "data_query[\"input_ids\"].size(), eot_query, data_query[\"input_ids\"][torch.arange(len(eot_query)), eot_query]"
   ]
  },
  {
   "cell_type": "code",
   "execution_count": 20,
   "metadata": {},
   "outputs": [],
   "source": [
    "with torch.no_grad():\n",
    "  output = model(**data_query, output_hidden_states = True)\n",
    "eot_log_query = output.hidden_states[-1][torch.arange(len(eot_query)), eot_query]\n",
    "eot_log_query = eot_log_query / eot_log_query.norm(-1, keepdim=True)"
   ]
  },
  {
   "cell_type": "code",
   "execution_count": 21,
   "metadata": {},
   "outputs": [],
   "source": [
    "qd = (eot_log_query @ eot_log_actions.T).softmax(-1)"
   ]
  },
  {
   "cell_type": "code",
   "execution_count": 22,
   "metadata": {},
   "outputs": [
    {
     "data": {
      "text/plain": [
       "array([[1., 0., 0.]], dtype=float32)"
      ]
     },
     "execution_count": 22,
     "metadata": {},
     "output_type": "execute_result"
    }
   ],
   "source": [
    "qd.numpy()"
   ]
  },
  {
   "cell_type": "code",
   "execution_count": 23,
   "metadata": {},
   "outputs": [
    {
     "data": {
      "text/plain": [
       "<matplotlib.image.AxesImage at 0x133b76790>"
      ]
     },
     "execution_count": 23,
     "metadata": {},
     "output_type": "execute_result"
    },
    {
     "data": {
      "image/png": "[encoded data removed]",
      "text/plain": [
       "<Figure size 432x288 with 1 Axes>"
      ]
     },
     "metadata": {
      "needs_background": "light"
     },
     "output_type": "display_data"
    }
   ],
   "source": [
    "plt.xticks(range(len(actions_inter)), texts_actions, rotation = 90)\n",
    "plt.yticks(range(len(eot_log_query)), query_texts, rotation = 0)\n",
    "plt.imshow(qd.numpy())"
   ]
  },
  {
   "cell_type": "markdown",
   "metadata": {},
   "source": [
    "Thus you can see that filling the template for URL gives a high similarity to action 0."
   ]
  },
  {
   "cell_type": "code",
   "execution_count": 24,
   "metadata": {},
   "outputs": [
    {
     "data": {
      "text/plain": [
       "<igym.Action.OpenLink: 'Open the following URL: https://www.bing.com'>"
      ]
     },
     "execution_count": 24,
     "metadata": {},
     "output_type": "execute_result"
    }
   ],
   "source": [
    "act0 = DefaultActions[0]\n",
    "act0.fill_values(url = args_dict[\"url\"])\n",
    "act0"
   ]
  },
  {
   "cell_type": "code",
   "execution_count": 25,
   "metadata": {},
   "outputs": [
    {
     "data": {
      "text/plain": [
       "(torch.Size([1, 15]), tensor([14]), tensor([50256]))"
      ]
     },
     "execution_count": 25,
     "metadata": {},
     "output_type": "execute_result"
    }
   ],
   "source": [
    "query_texts = [\"To search for value 'Elon Musk' by typing in a box\"]\n",
    "query_texts, data_query, eot_query = tokenize(query_texts)\n",
    "data_query[\"input_ids\"].size(), eot_query, data_query[\"input_ids\"][torch.arange(len(eot_query)), eot_query]"
   ]
  },
  {
   "cell_type": "code",
   "execution_count": 26,
   "metadata": {},
   "outputs": [],
   "source": [
    "with torch.no_grad():\n",
    "  output = model(**data_query, output_hidden_states = True)\n",
    "eot_log_query = output.hidden_states[-1][torch.arange(len(eot_query)), eot_query]\n",
    "eot_log_query = eot_log_query / eot_log_query.norm(-1, keepdim=True)\n",
    "qd = (eot_log_query @ eot_log_actions.T).softmax(-1)"
   ]
  },
  {
   "cell_type": "code",
   "execution_count": 27,
   "metadata": {},
   "outputs": [
    {
     "data": {
      "text/plain": [
       "array([[0.000e+00, 5.521e-42, 1.000e+00]], dtype=float32)"
      ]
     },
     "execution_count": 27,
     "metadata": {},
     "output_type": "execute_result"
    }
   ],
   "source": [
    "qd.numpy()"
   ]
  },
  {
   "cell_type": "code",
   "execution_count": 28,
   "metadata": {},
   "outputs": [
    {
     "data": {
      "text/plain": [
       "<matplotlib.image.AxesImage at 0x133bbc100>"
      ]
     },
     "execution_count": 28,
     "metadata": {},
     "output_type": "execute_result"
    },
    {
     "data": {
      "image/png": "[encoded data removed]",
      "text/plain": [
       "<Figure size 432x288 with 1 Axes>"
      ]
     },
     "metadata": {
      "needs_background": "light"
     },
     "output_type": "display_data"
    }
   ],
   "source": [
    "plt.xticks(range(len(actions_inter)), texts_actions, rotation = 90)\n",
    "plt.yticks(range(len(eot_log_query)), query_texts, rotation = 0)\n",
    "plt.imshow(qd.numpy())"
   ]
  },
  {
   "cell_type": "markdown",
   "metadata": {},
   "source": [
    "Similarly you get action 2 as second step."
   ]
  },
  {
   "cell_type": "code",
   "execution_count": 29,
   "metadata": {},
   "outputs": [
    {
     "data": {
      "text/plain": [
       "<igym.Action.TypeInputAndPressEnter: 'Type the following 'Elon Musk' in the input box and press Enter'>"
      ]
     },
     "execution_count": 29,
     "metadata": {},
     "output_type": "execute_result"
    }
   ],
   "source": [
    "act1 = DefaultActions[2]\n",
    "act1.fill_values(text = args_dict[\"text\"])\n",
    "act1"
   ]
  },
  {
   "cell_type": "code",
   "execution_count": 30,
   "metadata": {},
   "outputs": [
    {
     "data": {
      "text/plain": [
       "[<igym.Action.OpenLink: 'Open the following URL: https://www.bing.com'>,\n",
       " <igym.Action.TypeInputAndPressEnter: 'Type the following 'Elon Musk' in the input box and press Enter'>]"
      ]
     },
     "execution_count": 30,
     "metadata": {},
     "output_type": "execute_result"
    }
   ],
   "source": [
    "# combine the actions since we can pass the chain of arguments\n",
    "actions = [act0, act1]\n",
    "actions"
   ]
  },
  {
   "cell_type": "code",
   "execution_count": 31,
   "metadata": {},
   "outputs": [],
   "source": [
    "# initialise the environment with chromedriver\n",
    "# in this example I have the chromedriver in the same folder as this notebook\n",
    "env = InternetEnv(\"./chromedriver\")"
   ]
  },
  {
   "cell_type": "code",
   "execution_count": 32,
   "metadata": {},
   "outputs": [],
   "source": [
    "# user can pass a single action or list of actions\n",
    "# env.step(open_link)\n",
    "env.step(actions_list = actions)"
   ]
  },
  {
   "cell_type": "code",
   "execution_count": 33,
   "metadata": {},
   "outputs": [],
   "source": [
    "# after you are done checking the outcome\n",
    "env.close()"
   ]
  },
  {
   "cell_type": "code",
   "execution_count": null,
   "metadata": {},
   "outputs": [],
   "source": []
  }
 ],
 "metadata": {
  "kernelspec": {
   "display_name": "Python 3",
   "language": "python",
   "name": "python3"
  },
  "language_info": {
   "codemirror_mode": {
    "name": "ipython",
    "version": 3
   },
   "file_extension": ".py",
   "mimetype": "text/x-python",
   "name": "python",
   "nbconvert_exporter": "python",
   "pygments_lexer": "ipython3",
   "version": "3.9.1"
  }
 },
 "nbformat": 4,
 "nbformat_minor": 4
}
